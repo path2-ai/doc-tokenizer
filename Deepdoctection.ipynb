{
 "cells": [
  {
   "cell_type": "code",
   "execution_count": null,
   "id": "c230f8ca",
   "metadata": {},
   "outputs": [],
   "source": [
    "import json\n",
    "import deepdoctection as dd\n",
    "import markdownify"
   ]
  },
  {
   "cell_type": "code",
   "execution_count": null,
   "id": "5ae72c8b",
   "metadata": {},
   "outputs": [],
   "source": [
    "page = dd.load_page(\"deepdocdetect_output.json\")"
   ]
  },
  {
   "cell_type": "code",
   "execution_count": null,
   "id": "b7a7594d",
   "metadata": {},
   "outputs": [],
   "source": [
    "scale_x = 819 / 2481 # png width / root level width\n",
    "scale_y = 1060 / 3508"
   ]
  },
  {
   "cell_type": "markdown",
   "id": "34b31464",
   "metadata": {},
   "source": [
    "Categories:\n",
    "- table\n",
    "- title\n",
    "- text\n",
    "- cell"
   ]
  },
  {
   "cell_type": "code",
   "execution_count": null,
   "id": "d1325f85",
   "metadata": {},
   "outputs": [],
   "source": [
    "annotations = {\n",
    "    \"tables\": [],\n",
    "    \"titles\": [],\n",
    "    \"texts\": []\n",
    "}"
   ]
  },
  {
   "cell_type": "code",
   "execution_count": null,
   "id": "495737f9",
   "metadata": {},
   "outputs": [],
   "source": [
    "for annotation in page.annotations:\n",
    "    if str(annotation.category_name) == 'LayoutType.table':\n",
    "        annotations[\"tables\"].append(annotation)\n",
    "    elif str(annotation.category_name) == 'LayoutType.title':\n",
    "        annotations[\"titles\"].append(annotation)\n",
    "    elif str(annotation.category_name) == 'LayoutType.text':\n",
    "        annotations[\"texts\"].append(annotation)"
   ]
  },
  {
   "cell_type": "code",
   "execution_count": null,
   "id": "77b8b63b",
   "metadata": {},
   "outputs": [],
   "source": [
    "for key, list in annotations.items():\n",
    "    print(key, len(list))"
   ]
  },
  {
   "cell_type": "code",
   "execution_count": null,
   "id": "8f3311fd",
   "metadata": {},
   "outputs": [],
   "source": [
    "len(page.annotations)"
   ]
  },
  {
   "cell_type": "code",
   "execution_count": null,
   "id": "05b87ae9",
   "metadata": {
    "scrolled": false
   },
   "outputs": [],
   "source": [
    "table_example = page.annotations[0]"
   ]
  },
  {
   "cell_type": "code",
   "execution_count": null,
   "id": "b111525a",
   "metadata": {},
   "outputs": [],
   "source": [
    "title_example = page.annotations[1]"
   ]
  },
  {
   "cell_type": "code",
   "execution_count": null,
   "id": "427aa11e",
   "metadata": {},
   "outputs": [],
   "source": [
    "text_example = page.annotations[2]"
   ]
  },
  {
   "cell_type": "code",
   "execution_count": null,
   "id": "7398df4f",
   "metadata": {},
   "outputs": [],
   "source": [
    "cell_example = page.annotations[5]"
   ]
  },
  {
   "cell_type": "code",
   "execution_count": null,
   "id": "3cd18439",
   "metadata": {},
   "outputs": [],
   "source": [
    "with open(\"deepdocdetect_output.json\", \"r\") as f:\n",
    "    content = json.load(f)"
   ]
  },
  {
   "cell_type": "code",
   "execution_count": null,
   "id": "d0ee7e5b",
   "metadata": {},
   "outputs": [],
   "source": [
    "from PIL import Image\n",
    "import matplotlib.pyplot as plt\n",
    "import matplotlib.patches as patches"
   ]
  },
  {
   "cell_type": "code",
   "execution_count": null,
   "id": "da1cdae1",
   "metadata": {},
   "outputs": [],
   "source": [
    "example = annotations[\"tables\"][0]"
   ]
  },
  {
   "cell_type": "code",
   "execution_count": null,
   "id": "164cf9d8",
   "metadata": {},
   "outputs": [],
   "source": [
    "def get_table_values(table):\n",
    "    table_relationships = table.relationships[next(iter(table.relationships))]\n",
    "    annotation_id_to_value = {}\n",
    "    for idx, annotation in enumerate(page.get_annotation(annotation_ids=table_relationships)):\n",
    "        if len(annotation.relationships) > 0:\n",
    "            for cell_annotation in page.get_annotation(\n",
    "                annotation_ids=annotation.relationships[next(iter(annotation.relationships))]\n",
    "            ):\n",
    "                value = cell_annotation.sub_categories[next(iter(cell_annotation.sub_categories))].value\n",
    "                annotation_id_to_value[annotation.annotation_id] = value\n",
    "    return annotation_id_to_value"
   ]
  },
  {
   "cell_type": "code",
   "execution_count": null,
   "id": "98fb00e2",
   "metadata": {},
   "outputs": [],
   "source": [
    "def get_text_values(text):\n",
    "    text_relationships = text.relationships[next(iter(text.relationships))]\n",
    "    annotation_id_to_value = {}\n",
    "    for annotation in page.get_annotation(annotation_ids=text_relationships):\n",
    "        value = annotation.sub_categories[next(iter(annotation.sub_categories))].value\n",
    "        annotation_id_to_value[annotation.annotation_id] = value\n",
    "    return annotation_id_to_value"
   ]
  },
  {
   "cell_type": "code",
   "execution_count": null,
   "id": "07fe35e8",
   "metadata": {
    "scrolled": false
   },
   "outputs": [],
   "source": [
    "table_html_list = table_example.sub_categories[next(iter(table_example.sub_categories))].value\n",
    "table_html = \"\\n\".join(table_html_list)\n",
    "for annotation_id, value in get_table_values(table_example).items():\n",
    "    table_html = table_html.replace(annotation_id, value)\n",
    "print(table_html)"
   ]
  },
  {
   "cell_type": "code",
   "execution_count": null,
   "id": "40df1df3",
   "metadata": {},
   "outputs": [],
   "source": [
    "img = plt.imread(\"examples/invoice-1.png\")\n",
    "fig, ax = plt.subplots(1, figsize=(15, 15))\n",
    "\n",
    "# Display the image\n",
    "ax.imshow(img)\n",
    "\n",
    "rows = [{\n",
    "    'ulx': example.bounding_box.ulx * scale_x,\n",
    "    'uly': example.bounding_box.uly * scale_y,\n",
    "    'lrx': example.bounding_box.lrx * scale_x,\n",
    "    'lry': example.bounding_box.lry* scale_y,\n",
    "    \"content\": \"wow\"\n",
    "}]\n",
    "for box in rows:\n",
    "    print(box['uly'], box['lry'])\n",
    "    # rect = patches.Rectangle((box['position_x0'], box['position_y0']), box['position_x1']-box['position_x0'], box['position_y1']-box['position_y0'], linewidth=1, edgecolor='r', facecolor='none')\n",
    "    rect = patches.Rectangle((box['ulx'], box['uly']), box['lrx']-box['ulx'], box['lry']-box['uly'], linewidth=1, edgecolor='r', facecolor='none')\n",
    "    print(rect)\n",
    "    ax.add_patch(rect)\n",
    "    #ax.annotate(box['content'], (box['ulx'], box['uly']), fontsize=8, color='r')\n",
    "\n",
    "# Show the image\n",
    "plt.show()"
   ]
  },
  {
   "cell_type": "code",
   "execution_count": null,
   "id": "5cbe1c73",
   "metadata": {},
   "outputs": [],
   "source": []
  }
 ],
 "metadata": {
  "kernelspec": {
   "display_name": "Python 3 (ipykernel)",
   "language": "python",
   "name": "python3"
  },
  "language_info": {
   "codemirror_mode": {
    "name": "ipython",
    "version": 3
   },
   "file_extension": ".py",
   "mimetype": "text/x-python",
   "name": "python",
   "nbconvert_exporter": "python",
   "pygments_lexer": "ipython3",
   "version": "3.9.7"
  }
 },
 "nbformat": 4,
 "nbformat_minor": 5
}
