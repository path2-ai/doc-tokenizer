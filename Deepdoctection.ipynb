{
 "cells": [
  {
   "cell_type": "code",
   "execution_count": 1,
   "id": "c230f8ca",
   "metadata": {},
   "outputs": [],
   "source": [
    "import json\n",
    "import deepdoctection as dd"
   ]
  },
  {
   "cell_type": "code",
   "execution_count": 2,
   "id": "8b8ad17e",
   "metadata": {},
   "outputs": [
    {
     "name": "stderr",
     "output_type": "stream",
     "text": [
      "/Users/jhoetter/deepdoctection/lib/python3.9/site-packages/tqdm/auto.py:21: TqdmWarning: IProgress not found. Please update jupyter and ipywidgets. See https://ipywidgets.readthedocs.io/en/stable/user_install.html\n",
      "  from .autonotebook import tqdm as notebook_tqdm\n"
     ]
    }
   ],
   "source": [
    "page = dd.load_page(\"deepdocdetect_output.json\")"
   ]
  },
  {
   "cell_type": "code",
   "execution_count": 3,
   "id": "682be3c2",
   "metadata": {},
   "outputs": [],
   "source": [
    "scale_x = 819 / 2481 # png width / root level width\n",
    "scale_y = 1060 / 3508"
   ]
  },
  {
   "cell_type": "markdown",
   "id": "5cef5757",
   "metadata": {},
   "source": [
    "Categories:\n",
    "- table\n",
    "- title\n",
    "- text\n",
    "- cell"
   ]
  },
  {
   "cell_type": "code",
   "execution_count": 4,
   "id": "db7e5b29",
   "metadata": {},
   "outputs": [],
   "source": [
    "annotations = {\n",
    "    \"tables\": [],\n",
    "    \"titles\": [],\n",
    "    \"texts\": []\n",
    "}"
   ]
  },
  {
   "cell_type": "code",
   "execution_count": 5,
   "id": "d2bc4375",
   "metadata": {},
   "outputs": [],
   "source": [
    "for annotation in page.annotations:\n",
    "    if str(annotation.category_name) == 'LayoutType.table':\n",
    "        annotations[\"tables\"].append(annotation)\n",
    "    elif str(annotation.category_name) == 'LayoutType.title':\n",
    "        annotations[\"titles\"].append(annotation)\n",
    "    elif str(annotation.category_name) == 'LayoutType.text':\n",
    "        annotations[\"texts\"].append(annotation)"
   ]
  },
  {
   "cell_type": "code",
   "execution_count": 6,
   "id": "d9e88f5d",
   "metadata": {},
   "outputs": [
    {
     "name": "stdout",
     "output_type": "stream",
     "text": [
      "tables 1\n",
      "titles 2\n",
      "texts 1\n"
     ]
    }
   ],
   "source": [
    "for key, list in annotations.items():\n",
    "    print(key, len(list))"
   ]
  },
  {
   "cell_type": "code",
   "execution_count": 7,
   "id": "55e50754",
   "metadata": {},
   "outputs": [
    {
     "data": {
      "text/plain": [
       "410"
      ]
     },
     "execution_count": 7,
     "metadata": {},
     "output_type": "execute_result"
    }
   ],
   "source": [
    "len(page.annotations)"
   ]
  },
  {
   "cell_type": "code",
   "execution_count": 8,
   "id": "1d124349",
   "metadata": {
    "scrolled": false
   },
   "outputs": [],
   "source": [
    "table_example = page.annotations[0]"
   ]
  },
  {
   "cell_type": "code",
   "execution_count": 10,
   "id": "4bd01bc4",
   "metadata": {},
   "outputs": [],
   "source": [
    "title_example = page.annotations[1]"
   ]
  },
  {
   "cell_type": "code",
   "execution_count": 11,
   "id": "4422604a",
   "metadata": {},
   "outputs": [],
   "source": [
    "text_example = page.annotations[2]"
   ]
  },
  {
   "cell_type": "code",
   "execution_count": 12,
   "id": "3cfc98a7",
   "metadata": {},
   "outputs": [],
   "source": [
    "cell_example = page.annotations[5]"
   ]
  },
  {
   "cell_type": "code",
   "execution_count": 13,
   "id": "3cd18439",
   "metadata": {},
   "outputs": [],
   "source": [
    "with open(\"deepdocdetect_output.json\", \"r\") as f:\n",
    "    content = json.load(f)"
   ]
  },
  {
   "cell_type": "code",
   "execution_count": 14,
   "id": "183ecfe6",
   "metadata": {},
   "outputs": [],
   "source": [
    "from PIL import Image\n",
    "import matplotlib.pyplot as plt\n",
    "import matplotlib.patches as patches"
   ]
  },
  {
   "cell_type": "code",
   "execution_count": 23,
   "id": "e3b2b62d",
   "metadata": {},
   "outputs": [],
   "source": [
    "example = annotations[\"tables\"][0]"
   ]
  },
  {
   "cell_type": "code",
   "execution_count": 24,
   "id": "2784a75c",
   "metadata": {},
   "outputs": [
    {
     "ename": "AttributeError",
     "evalue": "'CategoryAnnotation' object has no attribute 'value'",
     "output_type": "error",
     "traceback": [
      "\u001b[0;31m---------------------------------------------------------------------------\u001b[0m",
      "\u001b[0;31mAttributeError\u001b[0m                            Traceback (most recent call last)",
      "Cell \u001b[0;32mIn[24], line 4\u001b[0m\n\u001b[1;32m      2\u001b[0m annotation_id_to_value \u001b[38;5;241m=\u001b[39m {}\n\u001b[1;32m      3\u001b[0m \u001b[38;5;28;01mfor\u001b[39;00m annotation \u001b[38;5;129;01min\u001b[39;00m page\u001b[38;5;241m.\u001b[39mget_annotation(annotation_ids\u001b[38;5;241m=\u001b[39mexample_relationships):\n\u001b[0;32m----> 4\u001b[0m     value \u001b[38;5;241m=\u001b[39m \u001b[43mannotation\u001b[49m\u001b[38;5;241;43m.\u001b[39;49m\u001b[43msub_categories\u001b[49m\u001b[43m[\u001b[49m\u001b[38;5;28;43mnext\u001b[39;49m\u001b[43m(\u001b[49m\u001b[38;5;28;43miter\u001b[39;49m\u001b[43m(\u001b[49m\u001b[43mannotation\u001b[49m\u001b[38;5;241;43m.\u001b[39;49m\u001b[43msub_categories\u001b[49m\u001b[43m)\u001b[49m\u001b[43m)\u001b[49m\u001b[43m]\u001b[49m\u001b[38;5;241;43m.\u001b[39;49m\u001b[43mvalue\u001b[49m\n\u001b[1;32m      5\u001b[0m     annotation_id_to_value[annotation\u001b[38;5;241m.\u001b[39mannotation_id] \u001b[38;5;241m=\u001b[39m value\n\u001b[1;32m      6\u001b[0m annotation_id_to_value\n",
      "\u001b[0;31mAttributeError\u001b[0m: 'CategoryAnnotation' object has no attribute 'value'"
     ]
    }
   ],
   "source": [
    "example_relationships = example.relationships[next(iter(example.relationships))]\n",
    "annotation_id_to_value = {}\n",
    "for annotation in page.get_annotation(annotation_ids=example_relationships):\n",
    "    value = annotation.sub_categories[next(iter(annotation.sub_categories))].value\n",
    "    annotation_id_to_value[annotation.annotation_id] = value\n",
    "annotation_id_to_value"
   ]
  },
  {
   "cell_type": "code",
   "execution_count": null,
   "id": "a7ba88ef",
   "metadata": {},
   "outputs": [],
   "source": [
    "\n",
    "\n",
    "img = plt.imread(\"examples/invoice-1.png\")\n",
    "fig, ax = plt.subplots(1, figsize=(15, 15))\n",
    "\n",
    "# Display the image\n",
    "ax.imshow(img)\n",
    "\n",
    "rows = [{\n",
    "    'ulx': example.bounding_box.ulx * scale_x,\n",
    "    'uly': example.bounding_box.uly * scale_y,\n",
    "    'lrx': example.bounding_box.lrx * scale_x,\n",
    "    'lry': example.bounding_box.lry* scale_y,\n",
    "    \"content\": \"wow\"\n",
    "}]\n",
    "for box in rows:\n",
    "    print(box['uly'], box['lry'])\n",
    "    # rect = patches.Rectangle((box['position_x0'], box['position_y0']), box['position_x1']-box['position_x0'], box['position_y1']-box['position_y0'], linewidth=1, edgecolor='r', facecolor='none')\n",
    "    rect = patches.Rectangle((box['ulx'], box['uly']), box['lrx']-box['ulx'], box['lry']-box['uly'], linewidth=1, edgecolor='r', facecolor='none')\n",
    "    print(rect)\n",
    "    ax.add_patch(rect)\n",
    "    #ax.annotate(box['content'], (box['ulx'], box['uly']), fontsize=8, color='r')\n",
    "\n",
    "# Show the image\n",
    "plt.show()"
   ]
  },
  {
   "cell_type": "code",
   "execution_count": null,
   "id": "33420080",
   "metadata": {},
   "outputs": [],
   "source": []
  }
 ],
 "metadata": {
  "kernelspec": {
   "display_name": "Python 3 (ipykernel)",
   "language": "python",
   "name": "python3"
  },
  "language_info": {
   "codemirror_mode": {
    "name": "ipython",
    "version": 3
   },
   "file_extension": ".py",
   "mimetype": "text/x-python",
   "name": "python",
   "nbconvert_exporter": "python",
   "pygments_lexer": "ipython3",
   "version": "3.9.7"
  }
 },
 "nbformat": 4,
 "nbformat_minor": 5
}
