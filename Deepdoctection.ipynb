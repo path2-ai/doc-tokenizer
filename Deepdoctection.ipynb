{
 "cells": [
  {
   "cell_type": "code",
   "execution_count": 1,
   "id": "c230f8ca",
   "metadata": {},
   "outputs": [],
   "source": [
    "import json\n",
    "import deepdoctection as dd"
   ]
  },
  {
   "cell_type": "code",
   "execution_count": 2,
   "id": "233aefb6",
   "metadata": {},
   "outputs": [
    {
     "name": "stderr",
     "output_type": "stream",
     "text": [
      "/Users/jhoetter/deepdoctection/lib/python3.9/site-packages/tqdm/auto.py:21: TqdmWarning: IProgress not found. Please update jupyter and ipywidgets. See https://ipywidgets.readthedocs.io/en/stable/user_install.html\n",
      "  from .autonotebook import tqdm as notebook_tqdm\n"
     ]
    }
   ],
   "source": [
    "page = dd.load_page(\"deepdocdetect_output.json\")"
   ]
  },
  {
   "cell_type": "code",
   "execution_count": 3,
   "id": "433c1560",
   "metadata": {},
   "outputs": [],
   "source": [
    "scale_x = 819 / 2481 # png width / root level width\n",
    "scale_y = 1060 / 3508"
   ]
  },
  {
   "cell_type": "markdown",
   "id": "03a2cc98",
   "metadata": {},
   "source": [
    "Categories:\n",
    "- table\n",
    "- title\n",
    "- text\n",
    "- cell"
   ]
  },
  {
   "cell_type": "code",
   "execution_count": 4,
   "id": "5fc2eef4",
   "metadata": {},
   "outputs": [],
   "source": [
    "annotations = {\n",
    "    \"tables\": [],\n",
    "    \"titles\": [],\n",
    "    \"texts\": []\n",
    "}"
   ]
  },
  {
   "cell_type": "code",
   "execution_count": 5,
   "id": "63747a3d",
   "metadata": {},
   "outputs": [],
   "source": [
    "for annotation in page.annotations:\n",
    "    if str(annotation.category_name) == 'LayoutType.table':\n",
    "        annotations[\"tables\"].append(annotation)\n",
    "    elif str(annotation.category_name) == 'LayoutType.title':\n",
    "        annotations[\"titles\"].append(annotation)\n",
    "    elif str(annotation.category_name) == 'LayoutType.text':\n",
    "        annotations[\"texts\"].append(annotation)"
   ]
  },
  {
   "cell_type": "code",
   "execution_count": 6,
   "id": "2455d794",
   "metadata": {},
   "outputs": [
    {
     "name": "stdout",
     "output_type": "stream",
     "text": [
      "tables 1\n",
      "titles 2\n",
      "texts 1\n"
     ]
    }
   ],
   "source": [
    "for key, list in annotations.items():\n",
    "    print(key, len(list))"
   ]
  },
  {
   "cell_type": "code",
   "execution_count": 7,
   "id": "73b41a99",
   "metadata": {},
   "outputs": [
    {
     "data": {
      "text/plain": [
       "410"
      ]
     },
     "execution_count": 7,
     "metadata": {},
     "output_type": "execute_result"
    }
   ],
   "source": [
    "len(page.annotations)"
   ]
  },
  {
   "cell_type": "code",
   "execution_count": 8,
   "id": "8917fe79",
   "metadata": {
    "scrolled": false
   },
   "outputs": [],
   "source": [
    "table_example = page.annotations[0]"
   ]
  },
  {
   "cell_type": "code",
   "execution_count": 10,
   "id": "454c27af",
   "metadata": {},
   "outputs": [],
   "source": [
    "title_example = page.annotations[1]"
   ]
  },
  {
   "cell_type": "code",
   "execution_count": 11,
   "id": "69544349",
   "metadata": {},
   "outputs": [],
   "source": [
    "text_example = page.annotations[2]"
   ]
  },
  {
   "cell_type": "code",
   "execution_count": 12,
   "id": "ac589fe3",
   "metadata": {},
   "outputs": [],
   "source": [
    "cell_example = page.annotations[5]"
   ]
  },
  {
   "cell_type": "code",
   "execution_count": 13,
   "id": "3cd18439",
   "metadata": {},
   "outputs": [],
   "source": [
    "with open(\"deepdocdetect_output.json\", \"r\") as f:\n",
    "    content = json.load(f)"
   ]
  },
  {
   "cell_type": "code",
   "execution_count": 14,
   "id": "34bae73d",
   "metadata": {},
   "outputs": [],
   "source": [
    "from PIL import Image\n",
    "import matplotlib.pyplot as plt\n",
    "import matplotlib.patches as patches"
   ]
  },
  {
   "cell_type": "code",
   "execution_count": 67,
   "id": "7f6052d2",
   "metadata": {},
   "outputs": [],
   "source": [
    "example = annotations[\"tables\"][0]"
   ]
  },
  {
   "cell_type": "code",
   "execution_count": 124,
   "id": "a56ed7d0",
   "metadata": {},
   "outputs": [],
   "source": [
    "def get_table_values(table):\n",
    "    example_relationships = example.relationships[next(iter(example.relationships))]\n",
    "    annotation_id_to_value = {}\n",
    "    for idx, annotation in enumerate(page.get_annotation(annotation_ids=example_relationships)):\n",
    "        if len(annotation.relationships) > 0:\n",
    "            for cell_annotation in page.get_annotation(annotation_ids=annotation.relationships[next(iter(annotation.relationships))]):\n",
    "                value = cell_annotation.sub_categories[next(iter(cell_annotation.sub_categories))].value\n",
    "                annotation_id_to_value[cell_annotation.annotation_id] = value\n",
    "    return annotation_id_to_value"
   ]
  },
  {
   "cell_type": "code",
   "execution_count": 123,
   "id": "f0ff799d",
   "metadata": {},
   "outputs": [
    {
     "data": {
      "text/plain": [
       "{'9817c162-3e84-3cdb-876f-2d70c27cb32b': '15.63%',\n",
       " '6113d98b-780e-3276-8b20-07d5a0ba16b2': '$0.00',\n",
       " '67758b9d-2b64-3294-b59b-6cdbb5540c98': '$51,000.00',\n",
       " '1e7758bf-2bc2-3fa0-bda0-cedef26a7568': '$9,000.00',\n",
       " '548633c3-4231-346e-b2ff-810bb0510745': '8/1/2013',\n",
       " 'c1c7f27c-597e-3f2d-a621-4a32d7f9346d': '$250.00',\n",
       " '6d83c355-86e8-3e70-ac79-7576056c7a45': 'HR',\n",
       " '02d9d56e-d5bf-33c2-a4fd-e52968a3d865': 'Remaining',\n",
       " '423a7461-769c-3762-a4f3-abb1bc3197c0': '$0.00',\n",
       " 'bab5e683-3c10-3a73-a895-35d4f9355dc2': 'DF',\n",
       " '69bcd758-6e61-3271-a6e7-11b36a40d4a4': '$9,000.00',\n",
       " '8c405931-e73b-3138-b08b-088a6327aa9f': '$51',\n",
       " 'd62ef1ae-c23a-3016-911a-3e9bbb170272': 'Schematic',\n",
       " 'fe1aab6b-6db9-396a-95dc-0ef2c12b540c': 'Design',\n",
       " '5f302b9d-a3a6-360c-8858-932af4f978ac': 'GALT-009',\n",
       " 'b1187bd7-b0b4-33c7-96da-bb835dd13796': 'Extension',\n",
       " '83a5227a-1971-3a45-aec1-d50b4179826c': 'Extension',\n",
       " 'f5ec70e9-8bc6-35bf-8827-6ae1823d0bea': '$375.00',\n",
       " '9e7a48c1-9bab-32c4-aa5b-e0488ef31617': '$375.00',\n",
       " '9549db51-24c4-3498-9733-4f2b57f3e9da': '8/7/2013',\n",
       " 'f4f1c1c4-9893-315f-bd67-946458562291': '$0.00',\n",
       " 'ca6e131f-3e29-397e-94b1-acc0d8bf14cb': '$0.00',\n",
       " '097b0f13-ab27-359e-baf5-8d3525f82381': 'Code',\n",
       " 'c7d3b649-1796-3050-8d45-ab4732d87d70': '$1,250.00',\n",
       " 'f400cbf3-0699-3a67-8b91-658331179dfd': 'INVOICE',\n",
       " '5cd8e27f-fa62-33af-8edd-7b0638f91354': 'NUMBER',\n",
       " 'a458ed0c-e3b8-3ada-aed8-5f6544c6ad5b': 'Date',\n",
       " 'f384fb0e-d1ca-3e22-9be2-eb19f9ce315e': 'Additional',\n",
       " '46f5b2e8-176f-3d15-86d5-c39ce2abe9b7': 'Services',\n",
       " 'e65be948-c6c2-37df-ae85-1e22cd26ce11': '8/1/2013',\n",
       " 'b4af58b9-5b0f-32d1-8c4e-28150d6bbe0c': 'Aug',\n",
       " '59b14377-2ec2-348f-b7be-32bf72a965b6': '31,',\n",
       " '783f4476-704f-3995-8eb9-4a6f615878bc': '2013',\n",
       " '745e2415-5f88-300e-91e5-4f6caf204d5b': 'DF',\n",
       " '1bf5420d-cf79-3eb2-af89-523c491e37eb': 'INVOICE',\n",
       " '0158922e-fb27-39c3-91d7-02ad014bc7fd': 'DATE',\n",
       " 'f78f1857-1c4d-3a88-8bd4-9a4312b65c9e': 'Existing',\n",
       " '1b24d1ff-d5fd-3809-9cd6-b1d26471955a': 'Facilities',\n",
       " '910c1dc8-142d-371b-86b5-fd979f1e2dea': 'Survey',\n",
       " '3fb640bf-18b6-3596-ad69-9bc9bde5b9a9': 'Code',\n",
       " '341ce3e2-53f9-316d-87f5-9054243fcaec': 'Nome',\n",
       " 'bfda3a5a-f6c4-3067-8c82-708a4810ef4c': 'Basic',\n",
       " '3d7ae5d1-6835-3a5a-88a5-3a433eb0005b': 'Services',\n",
       " 'bd2e27ef-b683-370d-ad19-bbe3c5844bca': '$11,812.50',\n",
       " '7020e5fb-ddf1-35fd-8326-5f86dfdf3800': 'Basic',\n",
       " 'a6632da0-5c0e-3aab-a720-4ba2d9b97a3e': 'Services',\n",
       " '68e8a7db-94aa-3f5c-ba1b-acf311872958': 'Date',\n",
       " 'e6a0ed94-131a-3f9e-b803-8104194a020f': 'Construction',\n",
       " '7fb2cd79-5b83-3d53-8453-f1f76c8f11a3': 'Documents',\n",
       " 'a9b64e20-ece5-36aa-8aab-a6d1836ab0cc': 'Basic',\n",
       " '5938ee05-e851-3827-82a3-9225bfc9b7dd': 'Services',\n",
       " '22fc7c05-8a3e-32b1-98ba-349d82bd10cb': 'BALANCE',\n",
       " 'fe899c15-767d-3bf7-8ba2-b3893f94ab9f': 'DUE',\n",
       " '12dca210-78c8-3076-8802-57a53bbbb182': 'Employee',\n",
       " '16a9a9a7-6aa7-3c78-993e-8e8c322a40db': 'Design',\n",
       " '6111cc73-d4bb-391b-9147-9835ad004d27': 'Development',\n",
       " '537dda34-6049-348c-a9d7-19085552a89d': '$250.00',\n",
       " '4f514d69-2e0a-3284-9c6c-fe9b1ac501c8': '$1,250.00',\n",
       " '66dfe766-5a68-3a6a-90fd-6e59f66f0d3d': 'Value',\n",
       " '29bcbdc3-1019-322e-9fd7-e30d808b9120': 'of',\n",
       " '91ac35f3-eaf7-3e34-ac0a-10ff5472d194': 'completed',\n",
       " 'b2e2eab1-91ef-37f6-9f33-ecd1b3b8f4f2': '$1,562.50',\n",
       " '113088db-6ada-325f-9687-2dae68fc54e7': '$1,562.50',\n",
       " '8f20f7c3-cf08-3295-a20d-ffca96fb98cb': '6.25',\n",
       " '9318ee74-869d-38b0-9bb2-8dd46e9d109c': 'PAYMENT',\n",
       " 'e1b0f91b-cb67-3fd0-a834-5a25841b586d': 'DUE',\n",
       " '5f9b585a-05ae-37a6-b28e-902f4eef7e7d': 'DATE',\n",
       " '2a186c2b-edae-32d3-b615-e07852c4caa8': '|',\n",
       " 'aa77b964-6106-3605-9dca-28d5b3549ec2': 'OUR',\n",
       " 'b685ac1c-bf4d-31f3-8f6d-4580c1fe9041': 'PROJECT',\n",
       " '6dfd98a3-a903-36dd-ad7b-d3c64f1308b4': 'NO.',\n",
       " 'c184ab66-804a-3a60-a41c-704e083cae29': 'Project',\n",
       " '76599261-2276-391d-94ac-2c4b58076fc6': 'Directory',\n",
       " '43be4aec-fbf2-3d45-ac1d-437ec0f9a433': '-',\n",
       " 'f8687a04-193a-3d09-84f2-f43fa8dee25e': 'Construction/test',\n",
       " '17d06b18-6213-3e7c-857b-6834582f956e': '1.00',\n",
       " '0aedbe75-ec59-3b25-81df-4ce15ccb87aa': '06',\n",
       " 'eb62c686-d311-3d68-9f27-eaa349992b8a': 'Contract',\n",
       " '742b3011-8d1a-31be-afc7-58ec8f225f10': 'Administration',\n",
       " 'c815def4-6dca-3452-b2ba-137c0438512c': 'Total',\n",
       " 'e7142553-98e0-3b6c-aa71-8de38ca26a65': '9.00',\n",
       " '0c2f7cc3-61d4-381b-9034-1967170cf0f5': '29.30%',\n",
       " 'ea164da7-b315-34da-aa58-59ccd615d149': '150,000.00',\n",
       " '413c1fb2-59a2-3b5c-9a82-3771e44173ae': '66.00%',\n",
       " '4781a5a5-3c32-34d2-ab6e-bcfc416fb849': '02',\n",
       " '51c7e09a-10ff-30c9-8ca7-b55baa6fd79c': 'Schematic',\n",
       " '7eae2c93-546c-3585-9f47-eb4fe51ed9c4': 'Design',\n",
       " '5b8fc731-d23f-371d-8225-10d25ca99d0c': '8/15/2013',\n",
       " '0697a3df-8e7f-32b5-b1fc-0fe5da6c8029': 'HR',\n",
       " '87606e0a-622a-30c4-bc1f-070b9f532bb4': 'Review',\n",
       " '756f2b24-a391-31a2-b9ac-c73853eb344d': 'Procedures',\n",
       " '2e3d58fe-268b-3237-a7d3-634d74f5404e': 'for',\n",
       " 'a0fdb72d-400c-3efb-ad2d-43b346f96ce9': 'Submittal',\n",
       " '1f21a2a1-8131-3546-8c4b-c1ee0e51813b': 'and',\n",
       " 'dea4f176-6976-3cfe-a183-635ec236c6ce': '2.00',\n",
       " 'd99dd2b1-4ace-3a31-8671-6dc5615594b6': 'Review',\n",
       " '4bc83427-e958-353d-acd3-de826532068b': 'of',\n",
       " '00f9e2ec-b04e-3e89-9410-7368d94eb13c': 'Payout',\n",
       " '27ebf0d2-9457-3ab6-91a5-c448b70d2072': 'Requests',\n",
       " '93bc94b3-7b1c-3cfd-b8db-b02916bccd45': 'with',\n",
       " '85d531d4-cb45-3905-999a-d9c4d6d4e455': 'Contractor',\n",
       " '57a5d06d-ed40-3d94-a40b-edd8aca27e48': 'Basic',\n",
       " '29b7e906-23ad-30d3-8707-dba3eb72fce8': 'Services',\n",
       " '945b0c63-c012-3aea-bca8-34b5d77b89bf': 'Sub',\n",
       " 'c8c98f02-d155-3ca0-8726-cd8bbd5982b7': 'Total:',\n",
       " 'f81885b9-d943-36a7-93e5-60b167549c01': '9.00',\n",
       " '317001d0-72b1-38ed-adf3-5003c3376cb7': '23.44%',\n",
       " '72a69094-b2a7-3e51-b635-ee0d112225dc': '$120,000.00',\n",
       " '1d994094-9dbb-3ddb-accd-82ca7979a49c': '100.00%',\n",
       " 'd86233d4-ee87-32a6-85e4-a11a222d4bd0': '$120,000.00',\n",
       " '558fa18e-c21a-36cc-85a9-7ad2132bea1b': '0.00%',\n",
       " 'f5a68e64-21e9-3082-908c-d4a484591590': '$80,000.00',\n",
       " '2800496c-2abc-3c90-8e4c-2b67a6b6a503': '100.00%',\n",
       " '47964d2c-d643-3464-850a-ca190b146d17': '$80,000.00',\n",
       " '7e262962-8384-3b92-a17e-9de4ae76bb3a': '0.00%',\n",
       " 'a9cfd23d-6ce9-383c-9294-fc2b81da121b': 'Stipulated',\n",
       " 'ccfe9129-10ed-397f-b078-ce7aa3f721f0': '%phase',\n",
       " 'f6bca312-4c21-3c63-b8bb-3c1a67f9012d': 'Amount',\n",
       " '239ebf99-36bf-3c7c-a06c-a778be99eea0': 'billed',\n",
       " '6b7dbf96-5941-3b34-bfee-e083e5798471': '%',\n",
       " '9eaab49b-dc17-3f49-af37-b7c7d81293f9': 'completed',\n",
       " '2ad307eb-7f85-3dab-a6d7-07b945e7d7be': 'Complete',\n",
       " '015586fd-92f3-3ad0-8837-a8dad483579b': '$1,562.50',\n",
       " '133ba433-bb2c-38e9-adb0-a58450c3c449': '$11,812.50',\n",
       " 'f1409cec-2ec0-36b3-8033-b06bd8fa2513': '-$26,588.00',\n",
       " 'a22d2d91-9189-30ae-a0b8-13c0a8d55175': '$63,950.00',\n",
       " '3bd6ecbd-297c-3c5e-94a7-a790c650de8d': '$11,812.50',\n",
       " 'f77eae32-1a3a-3d0f-9381-43de685cf783': 'Additional',\n",
       " '18f7ccd0-74f0-306d-9afa-6e61b2c481d7': 'Services',\n",
       " '25c4c493-868f-3187-90ae-d2c5376bee68': 'Sub',\n",
       " '6cc40378-ecbe-3801-ba8f-4b3f76449bd1': 'Total',\n",
       " '3d07a7fb-72ab-3bd7-bd0d-200ec1b68022': '6.25',\n",
       " '63d16d06-73fd-318a-b810-5ee78ff4ba95': 'Invoice',\n",
       " '461b59b8-adb4-3265-8abb-ab5e78b4a746': 'Total:',\n",
       " '64b599bd-718e-3b68-9c5b-7b3e628ab45e': 'Previous',\n",
       " '74918b7a-630b-3499-94cd-73dc8dc0c1ec': 'Balance:',\n",
       " '5d3d75e9-b928-3cea-87aa-ed4c57f249a9': 'Payments',\n",
       " '19382351-debf-3612-ba6e-c70de6efae4e': 'Received',\n",
       " '6068e1f8-6cfc-310c-9c05-336936e22f20': 'Account',\n",
       " 'd3c115cf-21e5-344c-9e42-9d927f8904aa': 'Balance',\n",
       " '234673e7-42f2-3df3-a95e-2d03f18fa4a6': 'Preconstruction',\n",
       " '77f81357-8db2-30e7-8168-10342dd3bdbd': 'Meeting',\n",
       " '2998e45e-9b8c-371c-877b-bbf01d787b8a': 'with',\n",
       " '5cca9af6-8ea2-3e9c-b920-9e61ab6779a2': 'Owner',\n",
       " '1953a092-03c5-3867-9ed7-1bdd6e9bd443': '3.00',\n",
       " '49085589-7169-372f-9814-294e047a59b5': 'and',\n",
       " '9d1c6420-a64b-3f35-b2c3-7b07afacce5c': 'Contractor',\n",
       " 'f7a0f840-aed3-3e49-9fa7-a47c3697b21d': 'Amount',\n",
       " '71e93622-39cc-380b-8b64-f2f1aeb48669': 'Remaining',\n",
       " '0e259a23-9c18-3173-900f-ae22ca3a4d95': 'Basic',\n",
       " '55091055-cfe8-33a5-b482-e1ae753207ae': 'Services',\n",
       " 'fabcece9-981b-383f-bb2d-1cc812277956': 'Basic',\n",
       " '8edcf502-3102-30ff-9eb2-2e53c30cb2b9': 'Services',\n",
       " '91f70716-9826-3485-b9ba-607fd24f2acd': 'Description',\n",
       " 'e57c2de1-2f90-3984-8a73-c060bcde204c': 'Hrs',\n",
       " '9ad0828f-cd41-384f-8c1e-7091a188e1ca': 'Current',\n",
       " '62ea7e93-71af-31e8-b65c-37608716255e': 'Invoice',\n",
       " 'a375b300-56ed-33fb-8e73-f80a766da7aa': 'Fee',\n",
       " 'c6fed144-adc9-3cd5-957f-7d54e9c47a44': 'Summary',\n",
       " 'e8989121-8df2-3e2a-8ec7-a91d289d9887': 'Previously',\n",
       " 'df137d2b-7b31-3235-adcb-540562ae3b84': 'Invoiced',\n",
       " '5092b5f9-6367-33b4-bbc3-180939b24d6a': '%',\n",
       " '28e6d8f5-4c61-3248-974e-77328d4f7f65': 'Description',\n",
       " '5b6b2a6f-750c-33f6-8fa0-6420fd798ccb': 'Hrs',\n",
       " '33fbdf95-3d6d-3011-990c-a5b880835909': '06',\n",
       " 'c5cbc201-be44-3514-97bc-e7b4c2156252': 'Contract',\n",
       " '40775cae-420c-3a46-aadf-38a5a04f9817': 'Administration',\n",
       " 'b401fd2d-743c-3059-9b23-f9fd4a2410d6': '8/1/2013',\n",
       " '483553b5-75fd-30c0-a458-9537ee9c4cb1': 'DF',\n",
       " '3f0f6e8f-eb55-33e8-bb9c-64d3cdef6052': 'Prepore',\n",
       " 'b4d98cbc-a015-3eea-95e0-3be1010cdea3': 'Payout',\n",
       " 'e2329045-6a1a-3079-a954-77a06e851a21': 'Request',\n",
       " '8b7839b8-97f3-3308-8530-ebdb787838db': 'Log',\n",
       " '4c195ba8-4696-3f1e-bdb1-5de306997413': '3.00',\n",
       " '269943bb-3b6c-3945-a059-5b9db69860e1': 'Sep',\n",
       " '16591127-4d5c-35cc-858f-05f251e3139f': '30,',\n",
       " '79870511-161c-36b4-bb37-1277b1cb75d0': '2013',\n",
       " 'a18d480f-03dd-3637-93ae-f4ceb67cebf9': '2012-0001',\n",
       " '27daac44-d01a-3d71-aa3d-cf65d5fd08e4': '02',\n",
       " '094336a0-224f-3fd1-8d8f-7e9ed8890dba': 'Schematic',\n",
       " 'bbe8f656-7ad1-33ab-b3d2-d237b0bc5555': 'Design',\n",
       " '6e40d32c-7de4-3f97-bfdc-a36ba88d6448': 'Total',\n",
       " '5f32e6d7-87b3-333b-a3ea-156bf3f6b0db': '6.25',\n",
       " 'e11cb53c-3c07-32c4-89d7-56672089c0a1': '68.36%',\n",
       " '4ca7e8c7-bfba-31b1-a897-1ab513561304': '$350,000.00',\n",
       " '76c0aaef-11b1-35a9-a9bc-53f6ffe79f12': '82.86%',\n",
       " '487483fb-9797-3836-922c-da360dae00bf': '$290,000.00',\n",
       " '55c567ae-201a-30c8-b527-dd74c748ecc7': '2.57%'}"
      ]
     },
     "execution_count": 123,
     "metadata": {},
     "output_type": "execute_result"
    }
   ],
   "source": []
  },
  {
   "cell_type": "code",
   "execution_count": 96,
   "id": "4c69c2ac",
   "metadata": {},
   "outputs": [],
   "source": []
  },
  {
   "cell_type": "code",
   "execution_count": 97,
   "id": "6778ff18",
   "metadata": {},
   "outputs": [
    {
     "data": {
      "text/plain": [
       "{'e11cb53c-3c07-32c4-89d7-56672089c0a1': '68.36%',\n",
       " '4ca7e8c7-bfba-31b1-a897-1ab513561304': '$350,000.00',\n",
       " '76c0aaef-11b1-35a9-a9bc-53f6ffe79f12': '82.86%',\n",
       " '487483fb-9797-3836-922c-da360dae00bf': '$290,000.00',\n",
       " '55c567ae-201a-30c8-b527-dd74c748ecc7': '2.57%'}"
      ]
     },
     "execution_count": 97,
     "metadata": {},
     "output_type": "execute_result"
    }
   ],
   "source": [
    "annotation_id_to_value"
   ]
  },
  {
   "cell_type": "code",
   "execution_count": 62,
   "id": "e21cc0d1",
   "metadata": {},
   "outputs": [
    {
     "ename": "AttributeError",
     "evalue": "'CategoryAnnotation' object has no attribute 'value'",
     "output_type": "error",
     "traceback": [
      "\u001b[0;31m---------------------------------------------------------------------------\u001b[0m",
      "\u001b[0;31mAttributeError\u001b[0m                            Traceback (most recent call last)",
      "Cell \u001b[0;32mIn[62], line 4\u001b[0m\n\u001b[1;32m      2\u001b[0m annotation_id_to_value \u001b[38;5;241m=\u001b[39m {}\n\u001b[1;32m      3\u001b[0m \u001b[38;5;28;01mfor\u001b[39;00m annotation \u001b[38;5;129;01min\u001b[39;00m page\u001b[38;5;241m.\u001b[39mget_annotation(annotation_ids\u001b[38;5;241m=\u001b[39mexample_relationships):\n\u001b[0;32m----> 4\u001b[0m     value \u001b[38;5;241m=\u001b[39m \u001b[43mannotation\u001b[49m\u001b[38;5;241;43m.\u001b[39;49m\u001b[43msub_categories\u001b[49m\u001b[43m[\u001b[49m\u001b[38;5;28;43mnext\u001b[39;49m\u001b[43m(\u001b[49m\u001b[38;5;28;43miter\u001b[39;49m\u001b[43m(\u001b[49m\u001b[43mannotation\u001b[49m\u001b[38;5;241;43m.\u001b[39;49m\u001b[43msub_categories\u001b[49m\u001b[43m)\u001b[49m\u001b[43m)\u001b[49m\u001b[43m]\u001b[49m\u001b[38;5;241;43m.\u001b[39;49m\u001b[43mvalue\u001b[49m\n\u001b[1;32m      5\u001b[0m     annotation_id_to_value[annotation\u001b[38;5;241m.\u001b[39mannotation_id] \u001b[38;5;241m=\u001b[39m value\n\u001b[1;32m      6\u001b[0m annotation_id_to_value\n",
      "\u001b[0;31mAttributeError\u001b[0m: 'CategoryAnnotation' object has no attribute 'value'"
     ]
    }
   ],
   "source": [
    "example_relationships = example.relationships[next(iter(example.relationships))]\n",
    "annotation_id_to_value = {}\n",
    "for annotation in page.get_annotation(annotation_ids=example_relationships):\n",
    "    value = annotation.sub_categories[next(iter(annotation.sub_categories))].value\n",
    "    annotation_id_to_value[annotation.annotation_id] = value\n",
    "annotation_id_to_value"
   ]
  },
  {
   "cell_type": "code",
   "execution_count": 45,
   "id": "7cd9d8be",
   "metadata": {},
   "outputs": [
    {
     "data": {
      "text/plain": [
       "94"
      ]
     },
     "execution_count": 45,
     "metadata": {},
     "output_type": "execute_result"
    }
   ],
   "source": [
    "len(page.get_annotation(annotation_ids=example_relationships))"
   ]
  },
  {
   "cell_type": "code",
   "execution_count": null,
   "id": "d73428a4",
   "metadata": {},
   "outputs": [],
   "source": [
    "\n",
    "\n",
    "img = plt.imread(\"examples/invoice-1.png\")\n",
    "fig, ax = plt.subplots(1, figsize=(15, 15))\n",
    "\n",
    "# Display the image\n",
    "ax.imshow(img)\n",
    "\n",
    "rows = [{\n",
    "    'ulx': example.bounding_box.ulx * scale_x,\n",
    "    'uly': example.bounding_box.uly * scale_y,\n",
    "    'lrx': example.bounding_box.lrx * scale_x,\n",
    "    'lry': example.bounding_box.lry* scale_y,\n",
    "    \"content\": \"wow\"\n",
    "}]\n",
    "for box in rows:\n",
    "    print(box['uly'], box['lry'])\n",
    "    # rect = patches.Rectangle((box['position_x0'], box['position_y0']), box['position_x1']-box['position_x0'], box['position_y1']-box['position_y0'], linewidth=1, edgecolor='r', facecolor='none')\n",
    "    rect = patches.Rectangle((box['ulx'], box['uly']), box['lrx']-box['ulx'], box['lry']-box['uly'], linewidth=1, edgecolor='r', facecolor='none')\n",
    "    print(rect)\n",
    "    ax.add_patch(rect)\n",
    "    #ax.annotate(box['content'], (box['ulx'], box['uly']), fontsize=8, color='r')\n",
    "\n",
    "# Show the image\n",
    "plt.show()"
   ]
  },
  {
   "cell_type": "code",
   "execution_count": null,
   "id": "87c345f7",
   "metadata": {},
   "outputs": [],
   "source": []
  }
 ],
 "metadata": {
  "kernelspec": {
   "display_name": "Python 3 (ipykernel)",
   "language": "python",
   "name": "python3"
  },
  "language_info": {
   "codemirror_mode": {
    "name": "ipython",
    "version": 3
   },
   "file_extension": ".py",
   "mimetype": "text/x-python",
   "name": "python",
   "nbconvert_exporter": "python",
   "pygments_lexer": "ipython3",
   "version": "3.9.7"
  }
 },
 "nbformat": 4,
 "nbformat_minor": 5
}
